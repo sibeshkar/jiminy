{
 "cells": [
  {
   "cell_type": "code",
   "execution_count": 41,
   "metadata": {},
   "outputs": [],
   "source": [
    "import os\n",
    "import struct\n",
    "import json\n",
    "\n",
    "path1 = 'recordings/recording1562131829.rbs'\n",
    "path2 = 'recordings/server.fbs'\n",
    "path3 = 'recordings/client.fbs'\n",
    "\n",
    "file = open(path3, 'rb')"
   ]
  },
  {
   "cell_type": "code",
   "execution_count": 51,
   "metadata": {},
   "outputs": [],
   "source": [
    "class FBSReader(object):\n",
    "    def __init__(self, path):\n",
    "        self.file = open(path, 'rb')\n",
    "        version = self.file.read(12)\n",
    "#         if version != b'FBS 001.000\\n':\n",
    "#             raise InvalidFBSFileError('Unrecognized FBS version: {}'.format(version))\n",
    "\n",
    "#         header = self.file.readline()\n",
    "        pos = self.file.tell()\n",
    "        self.file.seek(pos, os.SEEK_SET)\n",
    "\n",
    "#         header = json.loads(header.decode('utf-8'))\n",
    "#         self.start = header['start']\n",
    "\n",
    "    def __iter__(self):\n",
    "        return self\n",
    "\n",
    "    def read_safe(self, size=None):\n",
    "        \"\"\"\n",
    "        We currently close our fbs files by killing them, so sometimes they end\n",
    "        up with bad data at the end. Close our reader if we expect `size` bytes\n",
    "        and get fewer.\n",
    "\n",
    "        This is a hack and should be removed when we cleanly close our\n",
    "        connections in fbs_writer.\n",
    "\n",
    "        https://github.com/boxware/jiminy-envs/issues/41\n",
    "        \"\"\"\n",
    "        bytes = self.file.read(size)\n",
    "        if len(bytes) != size:\n",
    "            # We unexpectedly got to the end of the file\n",
    "            self.close()\n",
    "            raise StopIteration\n",
    "        return bytes\n",
    "\n",
    "    def next(self):\n",
    "        return self.__next__()\n",
    "\n",
    "    def __next__(self):\n",
    "        length_str = self.read_safe(4)\n",
    "        if length_str == '':\n",
    "            # Indicates a file with no trailer\n",
    "            self.close()\n",
    "            raise StopIteration\n",
    "        (length,) = struct.unpack('!I', length_str)\n",
    "\n",
    "        if length == 0:\n",
    "            # Reached the end\n",
    "            self.close()\n",
    "            raise StopIteration()\n",
    "\n",
    "        data = self.read_safe(length)\n",
    "        timestamp_str = self.read_safe(4)\n",
    "        (timestamp,) = struct.unpack('!I', timestamp_str)\n",
    "\n",
    "        return data, timestamp/1000.\n",
    "\n",
    "    def close(self):\n",
    "        self.file.close()"
   ]
  },
  {
   "cell_type": "code",
   "execution_count": 52,
   "metadata": {},
   "outputs": [],
   "source": [
    "fbs = iter(FBSReader(path3))"
   ]
  },
  {
   "cell_type": "code",
   "execution_count": 64,
   "metadata": {},
   "outputs": [
    {
     "data": {
      "text/plain": [
       "(b'\\x01\\x00\\x00\\x00\\x00\\x04\\x00\\x03\\x00', 0.511)"
      ]
     },
     "execution_count": 64,
     "metadata": {},
     "output_type": "execute_result"
    }
   ],
   "source": [
    "next(fbs)"
   ]
  },
  {
   "cell_type": "code",
   "execution_count": null,
   "metadata": {},
   "outputs": [],
   "source": []
  },
  {
   "cell_type": "code",
   "execution_count": null,
   "metadata": {},
   "outputs": [],
   "source": []
  }
 ],
 "metadata": {
  "kernelspec": {
   "display_name": "Python 3",
   "language": "python",
   "name": "python3"
  },
  "language_info": {
   "codemirror_mode": {
    "name": "ipython",
    "version": 3
   },
   "file_extension": ".py",
   "mimetype": "text/x-python",
   "name": "python",
   "nbconvert_exporter": "python",
   "pygments_lexer": "ipython3",
   "version": "3.7.1"
  }
 },
 "nbformat": 4,
 "nbformat_minor": 2
}
