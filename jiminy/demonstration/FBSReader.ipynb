{
 "cells": [
  {
   "cell_type": "code",
   "execution_count": 18,
   "metadata": {},
   "outputs": [],
   "source": [
    "import os\n",
    "import struct\n",
    "import json\n",
    "\n",
    "path1 = 'recordings/recording_1562461507/server.rbs'\n",
    "path2 = 'recordings/recording_1562461507/client.rbs'\n",
    "\n",
    "file = open(path1, 'rb')"
   ]
  },
  {
   "cell_type": "code",
   "execution_count": 19,
   "metadata": {},
   "outputs": [],
   "source": [
    "class FBSReader(object):\n",
    "    def __init__(self, path):\n",
    "        self.file = open(path, 'rb')\n",
    "        version = self.file.read(12)\n",
    "        if version != b'FBS 001.000\\n':\n",
    "            raise InvalidFBSFileError('Unrecognized FBS version: {}'.format(version))\n",
    "        \n",
    "        timestamp = self.file.read(4)\n",
    "        (self.start,) = struct.unpack('!I', timestamp)\n",
    "        header = self.file.readline()\n",
    "        pos = self.file.tell()\n",
    "        self.file.seek(pos, os.SEEK_SET)\n",
    "\n",
    "    def __iter__(self):\n",
    "        return self\n",
    "\n",
    "    def read_safe(self, size=None):\n",
    "        \"\"\"\n",
    "        We currently close our fbs files by killing them, so sometimes they end\n",
    "        up with bad data at the end. Close our reader if we expect `size` bytes\n",
    "        and get fewer.\n",
    "\n",
    "        This is a hack and should be removed when we cleanly close our\n",
    "        connections in fbs_writer.\n",
    "\n",
    "        https://github.com/boxware/jiminy-envs/issues/41\n",
    "        \"\"\"\n",
    "        bytes = self.file.read(size)\n",
    "        if len(bytes) != size:\n",
    "            # We unexpectedly got to the end of the file\n",
    "            self.close()\n",
    "            raise StopIteration\n",
    "        return bytes\n",
    "\n",
    "    def next(self):\n",
    "        return self.__next__()\n",
    "\n",
    "    def __next__(self):\n",
    "        length_str = self.read_safe(4)\n",
    "        if length_str == '':\n",
    "            # Indicates a file with no trailer\n",
    "            self.close()\n",
    "            raise StopIteration\n",
    "        (length,) = struct.unpack('!I', length_str)\n",
    "\n",
    "        if length == 0:\n",
    "            # Reached the end\n",
    "            self.close()\n",
    "            raise StopIteration()\n",
    "\n",
    "        data = self.read_safe(length)\n",
    "        timestamp_str = self.read_safe(4)\n",
    "        (timestamp,) = struct.unpack('!I', timestamp_str)\n",
    "\n",
    "        return data, self.start + timestamp/1000.\n",
    "\n",
    "    def close(self):\n",
    "        self.file.close()\n"
   ]
  },
  {
   "cell_type": "code",
   "execution_count": 16,
   "metadata": {},
   "outputs": [],
   "source": [
    "fbs = iter(FBSReader(path1))"
   ]
  },
  {
   "cell_type": "code",
   "execution_count": 17,
   "metadata": {},
   "outputs": [
    {
     "data": {
      "text/plain": [
       "63685"
      ]
     },
     "execution_count": 17,
     "metadata": {},
     "output_type": "execute_result"
    }
   ],
   "source": [
    "fbs.start"
   ]
  },
  {
   "cell_type": "code",
   "execution_count": 349,
   "metadata": {},
   "outputs": [],
   "source": [
    "file = open(path1, 'rb')"
   ]
  },
  {
   "cell_type": "code",
   "execution_count": 350,
   "metadata": {},
   "outputs": [
    {
     "data": {
      "text/plain": [
       "b'FBS 001.000\\n'"
      ]
     },
     "execution_count": 350,
     "metadata": {},
     "output_type": "execute_result"
    }
   ],
   "source": [
    "fbs_version = file.read(12)\n",
    "fbs_version"
   ]
  },
  {
   "cell_type": "code",
   "execution_count": 351,
   "metadata": {},
   "outputs": [
    {
     "name": "stdout",
     "output_type": "stream",
     "text": [
      "b'\\x00\\x00\\xf8\\xc5'\n"
     ]
    },
    {
     "data": {
      "text/plain": [
       "(63685,)"
      ]
     },
     "execution_count": 351,
     "metadata": {},
     "output_type": "execute_result"
    }
   ],
   "source": [
    "random_v = file.read(4)\n",
    "print(random_v)\n",
    "struct.unpack('!i', random_v)"
   ]
  },
  {
   "cell_type": "code",
   "execution_count": 352,
   "metadata": {},
   "outputs": [
    {
     "name": "stdout",
     "output_type": "stream",
     "text": [
      "b'RFB 003.003\\n'\n"
     ]
    }
   ],
   "source": [
    "rfb_info = file.read(12)\n",
    "print(rfb_info)"
   ]
  },
  {
   "cell_type": "code",
   "execution_count": 353,
   "metadata": {},
   "outputs": [
    {
     "name": "stdout",
     "output_type": "stream",
     "text": [
      "b'\\x00\\x00\\x00\\x01'\n"
     ]
    },
    {
     "data": {
      "text/plain": [
       "(1,)"
      ]
     },
     "execution_count": 353,
     "metadata": {},
     "output_type": "execute_result"
    }
   ],
   "source": [
    "sec_type = file.read(4)\n",
    "print(sec_type)\n",
    "struct.unpack('!i', sec_type)"
   ]
  },
  {
   "cell_type": "code",
   "execution_count": 354,
   "metadata": {},
   "outputs": [
    {
     "name": "stdout",
     "output_type": "stream",
     "text": [
      "b'\\x04\\x00\\x03\\x00 \\x18\\x00\\x01\\x00\\xff\\x00\\xff\\x00\\xff\\x10\\x08\\x00\\x00\\x00\\x00'\n"
     ]
    }
   ],
   "source": [
    "randomstuff = file.read(20)\n",
    "print(randomstuff)\n",
    "#struct.unpack('!IHHI', randomstuff)"
   ]
  },
  {
   "cell_type": "code",
   "execution_count": 355,
   "metadata": {},
   "outputs": [
    {
     "name": "stdout",
     "output_type": "stream",
     "text": [
      "b'\\x00\\x00\\x00\\x17'\n",
      "23\n"
     ]
    }
   ],
   "source": [
    "desktopNameLength = file.read(4)\n",
    "print(desktopNameLength)\n",
    "(d_len, ) = struct.unpack('!i', desktopNameLength)\n",
    "print(d_len)"
   ]
  },
  {
   "cell_type": "code",
   "execution_count": 356,
   "metadata": {},
   "outputs": [
    {
     "name": "stdout",
     "output_type": "stream",
     "text": [
      "b'TigerVNC (b4c627851041)'\n"
     ]
    }
   ],
   "source": [
    "desktopName = file.read(d_len)\n",
    "print(desktopName)"
   ]
  },
  {
   "cell_type": "code",
   "execution_count": 357,
   "metadata": {},
   "outputs": [],
   "source": [
    "length_str = file.read(4)"
   ]
  },
  {
   "cell_type": "code",
   "execution_count": 358,
   "metadata": {},
   "outputs": [
    {
     "data": {
      "text/plain": [
       "b'\\x00\\x00\\x00\\x03'"
      ]
     },
     "execution_count": 358,
     "metadata": {},
     "output_type": "execute_result"
    }
   ],
   "source": [
    "length_str"
   ]
  },
  {
   "cell_type": "code",
   "execution_count": 359,
   "metadata": {},
   "outputs": [],
   "source": [
    "(length,) = struct.unpack('!I', length_str)"
   ]
  },
  {
   "cell_type": "code",
   "execution_count": 360,
   "metadata": {},
   "outputs": [
    {
     "data": {
      "text/plain": [
       "3"
      ]
     },
     "execution_count": 360,
     "metadata": {},
     "output_type": "execute_result"
    }
   ],
   "source": [
    "length"
   ]
  },
  {
   "cell_type": "code",
   "execution_count": 361,
   "metadata": {},
   "outputs": [],
   "source": [
    "paddedSize = (length + 3) & 0x7FFFFFFC"
   ]
  },
  {
   "cell_type": "code",
   "execution_count": 362,
   "metadata": {},
   "outputs": [],
   "source": [
    "data = file.read(paddedSize)"
   ]
  },
  {
   "cell_type": "code",
   "execution_count": 363,
   "metadata": {},
   "outputs": [
    {
     "data": {
      "text/plain": [
       "b'\\x00\\x01\\x00\\x01'"
      ]
     },
     "execution_count": 363,
     "metadata": {},
     "output_type": "execute_result"
    }
   ],
   "source": [
    "data"
   ]
  },
  {
   "cell_type": "code",
   "execution_count": 332,
   "metadata": {},
   "outputs": [],
   "source": [
    "timestamp_str = file.read(4)"
   ]
  },
  {
   "cell_type": "code",
   "execution_count": 333,
   "metadata": {},
   "outputs": [
    {
     "ename": "error",
     "evalue": "unpack requires a buffer of 4 bytes",
     "output_type": "error",
     "traceback": [
      "\u001b[0;31m---------------------------------------------------------------------------\u001b[0m",
      "\u001b[0;31merror\u001b[0m                                     Traceback (most recent call last)",
      "\u001b[0;32m<ipython-input-333-109ed4d92eb6>\u001b[0m in \u001b[0;36m<module>\u001b[0;34m\u001b[0m\n\u001b[0;32m----> 1\u001b[0;31m \u001b[0;34m(\u001b[0m\u001b[0mtimestamp\u001b[0m\u001b[0;34m,\u001b[0m\u001b[0;34m)\u001b[0m \u001b[0;34m=\u001b[0m \u001b[0mstruct\u001b[0m\u001b[0;34m.\u001b[0m\u001b[0munpack\u001b[0m\u001b[0;34m(\u001b[0m\u001b[0;34m'!I'\u001b[0m\u001b[0;34m,\u001b[0m \u001b[0mtimestamp_str\u001b[0m\u001b[0;34m)\u001b[0m\u001b[0;34m\u001b[0m\u001b[0;34m\u001b[0m\u001b[0m\n\u001b[0m",
      "\u001b[0;31merror\u001b[0m: unpack requires a buffer of 4 bytes"
     ]
    }
   ],
   "source": [
    "(timestamp,) = struct.unpack('!I', timestamp_str)"
   ]
  },
  {
   "cell_type": "code",
   "execution_count": 324,
   "metadata": {},
   "outputs": [
    {
     "data": {
      "text/plain": [
       "655376"
      ]
     },
     "execution_count": 324,
     "metadata": {},
     "output_type": "execute_result"
    }
   ],
   "source": [
    "timestamp"
   ]
  },
  {
   "cell_type": "code",
   "execution_count": 334,
   "metadata": {},
   "outputs": [
    {
     "data": {
      "text/plain": [
       "b''"
      ]
     },
     "execution_count": 334,
     "metadata": {},
     "output_type": "execute_result"
    }
   ],
   "source": [
    "timestamp_str"
   ]
  },
  {
   "cell_type": "code",
   "execution_count": 163,
   "metadata": {},
   "outputs": [],
   "source": [
    "name_l = struct.unpack('!iii', b'\\x00\\x00\\x00\\x01\\x04\\x00\\x03\\x00\\x18\\x00\\x01\\x00')"
   ]
  },
  {
   "cell_type": "code",
   "execution_count": 164,
   "metadata": {},
   "outputs": [
    {
     "data": {
      "text/plain": [
       "(1, 67109632, 402653440)"
      ]
     },
     "execution_count": 164,
     "metadata": {},
     "output_type": "execute_result"
    }
   ],
   "source": [
    "name_l"
   ]
  },
  {
   "cell_type": "code",
   "execution_count": 273,
   "metadata": {},
   "outputs": [
    {
     "data": {
      "text/plain": [
       "(67109632,)"
      ]
     },
     "execution_count": 273,
     "metadata": {},
     "output_type": "execute_result"
    }
   ],
   "source": [
    "struct.unpack('!I', b'\\x04\\x00\\x03\\x00')"
   ]
  },
  {
   "cell_type": "code",
   "execution_count": 272,
   "metadata": {},
   "outputs": [
    {
     "data": {
      "text/plain": [
       "b'\\x04\\x00\\x03\\x00 \\x18\\x00\\x01\\x00\\xff\\x00\\xff\\x00\\xff\\x10\\x08\\x00\\x00\\x00\\x00'"
      ]
     },
     "execution_count": 272,
     "metadata": {},
     "output_type": "execute_result"
    }
   ],
   "source": [
    "randomstuff"
   ]
  },
  {
   "cell_type": "code",
   "execution_count": 348,
   "metadata": {},
   "outputs": [
    {
     "data": {
      "text/plain": [
       "4"
      ]
     },
     "execution_count": 348,
     "metadata": {},
     "output_type": "execute_result"
    }
   ],
   "source": [
    "paddedSize"
   ]
  },
  {
   "cell_type": "code",
   "execution_count": null,
   "metadata": {},
   "outputs": [],
   "source": []
  }
 ],
 "metadata": {
  "kernelspec": {
   "display_name": "Python 3",
   "language": "python",
   "name": "python3"
  },
  "language_info": {
   "codemirror_mode": {
    "name": "ipython",
    "version": 3
   },
   "file_extension": ".py",
   "mimetype": "text/x-python",
   "name": "python",
   "nbconvert_exporter": "python",
   "pygments_lexer": "ipython3",
   "version": "3.6.8"
  }
 },
 "nbformat": 4,
 "nbformat_minor": 2
}
